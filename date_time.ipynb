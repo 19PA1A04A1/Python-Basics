{
  "nbformat": 4,
  "nbformat_minor": 0,
  "metadata": {
    "colab": {
      "name": "date time.ipynb",
      "provenance": [],
      "authorship_tag": "ABX9TyOWlYvgpaNVrtUR3gG5LlwM",
      "include_colab_link": true
    },
    "kernelspec": {
      "name": "python3",
      "display_name": "Python 3"
    }
  },
  "cells": [
    {
      "cell_type": "markdown",
      "metadata": {
        "id": "view-in-github",
        "colab_type": "text"
      },
      "source": [
        "<a href=\"https://colab.research.google.com/github/19PA1A04A1/Python-Basics/blob/master/date_time.ipynb\" target=\"_parent\"><img src=\"https://colab.research.google.com/assets/colab-badge.svg\" alt=\"Open In Colab\"/></a>"
      ]
    },
    {
      "cell_type": "code",
      "metadata": {
        "id": "wtV-mIS0q120",
        "colab_type": "code",
        "colab": {
          "base_uri": "https://localhost:8080/",
          "height": 34
        },
        "outputId": "0facb8f7-2847-4609-9ce9-76adb149df99"
      },
      "source": [
        "import datetime\n",
        "a=datetime.datetime.now()\n",
        "print(a)"
      ],
      "execution_count": 4,
      "outputs": [
        {
          "output_type": "stream",
          "text": [
            "2020-02-04 05:28:53.058648\n"
          ],
          "name": "stdout"
        }
      ]
    }
  ]
}