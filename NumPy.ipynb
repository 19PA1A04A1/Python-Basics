{
  "nbformat": 4,
  "nbformat_minor": 0,
  "metadata": {
    "colab": {
      "name": "NumPy.ipynb",
      "provenance": [],
      "authorship_tag": "ABX9TyOdpe3AhWTY8I26CtXow8cU",
      "include_colab_link": true
    },
    "kernelspec": {
      "name": "python3",
      "display_name": "Python 3"
    }
  },
  "cells": [
    {
      "cell_type": "markdown",
      "metadata": {
        "id": "view-in-github",
        "colab_type": "text"
      },
      "source": [
        "<a href=\"https://colab.research.google.com/github/19PA1A04A1/Python-Basics/blob/master/NumPy.ipynb\" target=\"_parent\"><img src=\"https://colab.research.google.com/assets/colab-badge.svg\" alt=\"Open In Colab\"/></a>"
      ]
    },
    {
      "cell_type": "code",
      "metadata": {
        "id": "YQcWjyUzaKqO",
        "colab_type": "code",
        "colab": {
          "base_uri": "https://localhost:8080/",
          "height": 34
        },
        "outputId": "ba68b345-1bf5-428a-b5e5-0b209c57e047"
      },
      "source": [
        "import numpy as np\n",
        "a=np.array([1,2,3])\n",
        "print(a)"
      ],
      "execution_count": 6,
      "outputs": [
        {
          "output_type": "stream",
          "text": [
            "[1 2 3]\n"
          ],
          "name": "stdout"
        }
      ]
    },
    {
      "cell_type": "code",
      "metadata": {
        "id": "qTt65Ah8bA59",
        "colab_type": "code",
        "colab": {
          "base_uri": "https://localhost:8080/",
          "height": 51
        },
        "outputId": "7d0f82c7-6e82-411d-d514-fd5617a6250f"
      },
      "source": [
        "import numpy as np\n",
        "a=np.array([[1,2,3],[4,5,6]])\n",
        "print(a)"
      ],
      "execution_count": 7,
      "outputs": [
        {
          "output_type": "stream",
          "text": [
            "[[1 2 3]\n",
            " [4 5 6]]\n"
          ],
          "name": "stdout"
        }
      ]
    },
    {
      "cell_type": "code",
      "metadata": {
        "id": "Phak6aX6bfkg",
        "colab_type": "code",
        "colab": {
          "base_uri": "https://localhost:8080/",
          "height": 34
        },
        "outputId": "d54ff192-d2fc-497c-9d64-a3464358b8d9"
      },
      "source": [
        "import numpy as np\n",
        "np.arange(2,10,2)\n"
      ],
      "execution_count": 11,
      "outputs": [
        {
          "output_type": "execute_result",
          "data": {
            "text/plain": [
              "array([2, 4, 6, 8])"
            ]
          },
          "metadata": {
            "tags": []
          },
          "execution_count": 11
        }
      ]
    },
    {
      "cell_type": "code",
      "metadata": {
        "id": "0gxdfJljcDg4",
        "colab_type": "code",
        "colab": {
          "base_uri": "https://localhost:8080/",
          "height": 170
        },
        "outputId": "6ff906fb-ad3a-436e-9943-7eb176813eb3"
      },
      "source": [
        "import numpy as np\n",
        "a=np.arange(15).reshape(3,5)\n",
        "print(a)\n",
        "print(a.shape)\n",
        "print(a.ndim)\n",
        "print(a.dtype)\n",
        "print(a.itemsize)\n",
        "print(a.size)\n",
        "print(type(a))"
      ],
      "execution_count": 27,
      "outputs": [
        {
          "output_type": "stream",
          "text": [
            "[[ 0  1  2  3  4]\n",
            " [ 5  6  7  8  9]\n",
            " [10 11 12 13 14]]\n",
            "(3, 5)\n",
            "2\n",
            "int64\n",
            "8\n",
            "15\n",
            "<class 'numpy.ndarray'>\n"
          ],
          "name": "stdout"
        }
      ]
    },
    {
      "cell_type": "code",
      "metadata": {
        "id": "1v_rfEvzeyIu",
        "colab_type": "code",
        "colab": {
          "base_uri": "https://localhost:8080/",
          "height": 68
        },
        "outputId": "f52488e4-49ba-42c2-cb26-a4a1e086441f"
      },
      "source": [
        "import numpy as np\n",
        "np.zeros((3,4))"
      ],
      "execution_count": 28,
      "outputs": [
        {
          "output_type": "execute_result",
          "data": {
            "text/plain": [
              "array([[0., 0., 0., 0.],\n",
              "       [0., 0., 0., 0.],\n",
              "       [0., 0., 0., 0.]])"
            ]
          },
          "metadata": {
            "tags": []
          },
          "execution_count": 28
        }
      ]
    },
    {
      "cell_type": "code",
      "metadata": {
        "id": "x5XKXjc_fCyZ",
        "colab_type": "code",
        "colab": {
          "base_uri": "https://localhost:8080/",
          "height": 68
        },
        "outputId": "e3bf249f-99c6-4fea-98a2-41247560e42c"
      },
      "source": [
        "import numpy as np\n",
        "np.empty((3,4))"
      ],
      "execution_count": 29,
      "outputs": [
        {
          "output_type": "execute_result",
          "data": {
            "text/plain": [
              "array([[0., 0., 0., 0.],\n",
              "       [0., 0., 0., 0.],\n",
              "       [0., 0., 0., 0.]])"
            ]
          },
          "metadata": {
            "tags": []
          },
          "execution_count": 29
        }
      ]
    },
    {
      "cell_type": "code",
      "metadata": {
        "id": "uZwe8j8hfbRo",
        "colab_type": "code",
        "colab": {
          "base_uri": "https://localhost:8080/",
          "height": 68
        },
        "outputId": "50e01ce7-34f3-4cdd-8067-0a004dce902c"
      },
      "source": [
        "import numpy as np\n",
        "np.eye(3,3)"
      ],
      "execution_count": 32,
      "outputs": [
        {
          "output_type": "execute_result",
          "data": {
            "text/plain": [
              "array([[1., 0., 0.],\n",
              "       [0., 1., 0.],\n",
              "       [0., 0., 1.]])"
            ]
          },
          "metadata": {
            "tags": []
          },
          "execution_count": 32
        }
      ]
    },
    {
      "cell_type": "code",
      "metadata": {
        "id": "9JUFAW-TfogS",
        "colab_type": "code",
        "colab": {
          "base_uri": "https://localhost:8080/",
          "height": 68
        },
        "outputId": "c631e794-5526-4139-e27e-e8f7080fb1c0"
      },
      "source": [
        "import numpy as np\n",
        "np.full((3,3),6)"
      ],
      "execution_count": 33,
      "outputs": [
        {
          "output_type": "execute_result",
          "data": {
            "text/plain": [
              "array([[6, 6, 6],\n",
              "       [6, 6, 6],\n",
              "       [6, 6, 6]])"
            ]
          },
          "metadata": {
            "tags": []
          },
          "execution_count": 33
        }
      ]
    },
    {
      "cell_type": "code",
      "metadata": {
        "id": "TR5EJIJgf3pa",
        "colab_type": "code",
        "colab": {
          "base_uri": "https://localhost:8080/",
          "height": 68
        },
        "outputId": "d7c2542a-24c5-4462-9359-ad2f5df4ff8a"
      },
      "source": [
        "import numpy as np\n",
        "np.random.random((3,3))"
      ],
      "execution_count": 35,
      "outputs": [
        {
          "output_type": "execute_result",
          "data": {
            "text/plain": [
              "array([[0.34647297, 0.60020785, 0.36090659],\n",
              "       [0.38119458, 0.90719709, 0.9676034 ],\n",
              "       [0.3041327 , 0.42937877, 0.31996773]])"
            ]
          },
          "metadata": {
            "tags": []
          },
          "execution_count": 35
        }
      ]
    },
    {
      "cell_type": "code",
      "metadata": {
        "id": "1dqKsg1JgWjH",
        "colab_type": "code",
        "colab": {
          "base_uri": "https://localhost:8080/",
          "height": 136
        },
        "outputId": "fbbd9e04-e038-46e8-8484-6c535f8c8a14"
      },
      "source": [
        "a=np.array([1,2,3,4])\n",
        "b=np.array([1,2,3,4])\n",
        "print(a)\n",
        "print(b)\n",
        "c=a-b\n",
        "print(a)\n",
        "print(b**2)\n",
        "print(10*np.sin(a))\n",
        "print(a<4)\n",
        "a[0]+=3\n",
        "print(a)"
      ],
      "execution_count": 50,
      "outputs": [
        {
          "output_type": "stream",
          "text": [
            "[1 2 3 4]\n",
            "[1 2 3 4]\n",
            "[1 2 3 4]\n",
            "[ 1  4  9 16]\n",
            "[ 8.41470985  9.09297427  1.41120008 -7.56802495]\n",
            "[ True  True  True False]\n",
            "[4 2 3 4]\n"
          ],
          "name": "stdout"
        }
      ]
    },
    {
      "cell_type": "code",
      "metadata": {
        "id": "typR92OaoE0X",
        "colab_type": "code",
        "colab": {
          "base_uri": "https://localhost:8080/",
          "height": 221
        },
        "outputId": "caebd2ad-1c46-4d34-96e2-49744b577fb1"
      },
      "source": [
        "a=np.array([[1,2],[2,3]])\n",
        "b=np.array([[5,6],[4,3]])\n",
        "print(a)\n",
        "print(b)\n",
        "print(a*b)\n",
        "print(a@b)\n",
        "print(a.dot(b))\n",
        "print(np.dot(a,b))"
      ],
      "execution_count": 55,
      "outputs": [
        {
          "output_type": "stream",
          "text": [
            "[[1 2]\n",
            " [2 3]]\n",
            "[[5 6]\n",
            " [4 3]]\n",
            "[[ 5 12]\n",
            " [ 8  9]]\n",
            "[[13 12]\n",
            " [22 21]]\n",
            "[[13 12]\n",
            " [22 21]]\n",
            "[[13 12]\n",
            " [22 21]]\n"
          ],
          "name": "stdout"
        }
      ]
    },
    {
      "cell_type": "code",
      "metadata": {
        "id": "-sQ8DVLqpkb6",
        "colab_type": "code",
        "colab": {
          "base_uri": "https://localhost:8080/",
          "height": 170
        },
        "outputId": "b7ae90ef-896d-41d8-f98a-60ff008ae24e"
      },
      "source": [
        "b=np.arange(12).reshape(3,4)\n",
        "print(b)\n",
        "print(b.sum())\n",
        "print(b.sum(axis=0))\n",
        "print(b.min(axis=1))\n",
        "print(b.cumsum(axis=1))"
      ],
      "execution_count": 63,
      "outputs": [
        {
          "output_type": "stream",
          "text": [
            "[[ 0  1  2  3]\n",
            " [ 4  5  6  7]\n",
            " [ 8  9 10 11]]\n",
            "66\n",
            "[12 15 18 21]\n",
            "[0 4 8]\n",
            "[[ 0  1  3  6]\n",
            " [ 4  9 15 22]\n",
            " [ 8 17 27 38]]\n"
          ],
          "name": "stdout"
        }
      ]
    },
    {
      "cell_type": "code",
      "metadata": {
        "id": "OXn9U8b0nNvv",
        "colab_type": "code",
        "colab": {
          "base_uri": "https://localhost:8080/",
          "height": 85
        },
        "outputId": "612336f5-eb11-4285-d02a-9187721893e0"
      },
      "source": [
        "a=np.arange(10)**3\n",
        "print(a)\n",
        "print(a[2:4])\n",
        "print(a[2])\n",
        "print(a[-1])"
      ],
      "execution_count": 73,
      "outputs": [
        {
          "output_type": "stream",
          "text": [
            "[  0   1   8  27  64 125 216 343 512 729]\n",
            "[ 8 27]\n",
            "8\n",
            "729\n"
          ],
          "name": "stdout"
        }
      ]
    },
    {
      "cell_type": "code",
      "metadata": {
        "id": "c8xFPGx6sXbn",
        "colab_type": "code",
        "colab": {
          "base_uri": "https://localhost:8080/",
          "height": 153
        },
        "outputId": "a19c9fd4-b1f1-46ab-8af5-35f300b81bf3"
      },
      "source": [
        "a=np.arange(12).reshape(3,4)\n",
        "print(a)\n",
        "print(a[1:3])\n",
        "print(a[1:3,1:2])\n",
        "print(a[-1,-3])"
      ],
      "execution_count": 75,
      "outputs": [
        {
          "output_type": "stream",
          "text": [
            "[[ 0  1  2  3]\n",
            " [ 4  5  6  7]\n",
            " [ 8  9 10 11]]\n",
            "[[ 4  5  6  7]\n",
            " [ 8  9 10 11]]\n",
            "[[5]\n",
            " [9]]\n",
            "9\n"
          ],
          "name": "stdout"
        }
      ]
    },
    {
      "cell_type": "code",
      "metadata": {
        "id": "aCnMWOgCstJg",
        "colab_type": "code",
        "colab": {}
      },
      "source": [
        ""
      ],
      "execution_count": 0,
      "outputs": []
    }
  ]
}