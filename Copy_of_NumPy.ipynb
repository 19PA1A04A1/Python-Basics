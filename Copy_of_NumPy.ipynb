{
  "nbformat": 4,
  "nbformat_minor": 0,
  "metadata": {
    "colab": {
      "name": "Copy of NumPy.ipynb",
      "provenance": [],
      "include_colab_link": true
    },
    "kernelspec": {
      "name": "python3",
      "display_name": "Python 3"
    }
  },
  "cells": [
    {
      "cell_type": "markdown",
      "metadata": {
        "id": "view-in-github",
        "colab_type": "text"
      },
      "source": [
        "<a href=\"https://colab.research.google.com/github/19PA1A04A1/Python-Basics/blob/master/Copy_of_NumPy.ipynb\" target=\"_parent\"><img src=\"https://colab.research.google.com/assets/colab-badge.svg\" alt=\"Open In Colab\"/></a>"
      ]
    },
    {
      "cell_type": "code",
      "metadata": {
        "id": "YQcWjyUzaKqO",
        "colab_type": "code",
        "outputId": "5d31a913-7c45-486b-9d92-7151dac87079",
        "colab": {
          "base_uri": "https://localhost:8080/",
          "height": 69
        }
      },
      "source": [
        "import numpy as np\n",
        "a=np.array([1,2,3])\n",
        "print(a)"
      ],
      "execution_count": 46,
      "outputs": [
        {
          "output_type": "stream",
          "text": [
            "[1 2 3]\n",
            "[1 2 3]\n",
            "[1 2 3]\n"
          ],
          "name": "stdout"
        }
      ]
    },
    {
      "cell_type": "code",
      "metadata": {
        "id": "qTt65Ah8bA59",
        "colab_type": "code",
        "outputId": "be520eba-d93d-43ca-f968-6d701deee3f8",
        "colab": {
          "base_uri": "https://localhost:8080/",
          "height": 121
        }
      },
      "source": [
        "import numpy as np\n",
        "a=np.array([[1,2,3],[4,5,6]])\n",
        "print(a)"
      ],
      "execution_count": 47,
      "outputs": [
        {
          "output_type": "stream",
          "text": [
            "[[1 2 3]\n",
            " [4 5 6]]\n",
            "[[1 2 3]\n",
            " [4 5 6]]\n",
            "[[1 2 3]\n",
            " [4 5 6]]\n"
          ],
          "name": "stdout"
        }
      ]
    },
    {
      "cell_type": "code",
      "metadata": {
        "id": "Phak6aX6bfkg",
        "colab_type": "code",
        "outputId": "689c76d3-93a9-4c0d-dccb-47f6be97b11e",
        "colab": {
          "base_uri": "https://localhost:8080/",
          "height": 35
        }
      },
      "source": [
        "import numpy as np\n",
        "np.arange(2,10,2)\n"
      ],
      "execution_count": 48,
      "outputs": [
        {
          "output_type": "execute_result",
          "data": {
            "text/plain": [
              "array([2, 4, 6, 8])"
            ]
          },
          "metadata": {
            "tags": []
          },
          "execution_count": 6
        },
        {
          "output_type": "execute_result",
          "data": {
            "text/plain": [
              "array([2, 4, 6, 8])"
            ]
          },
          "metadata": {
            "tags": []
          },
          "execution_count": 27
        },
        {
          "output_type": "execute_result",
          "data": {
            "text/plain": [
              "array([2, 4, 6, 8])"
            ]
          },
          "metadata": {
            "tags": []
          },
          "execution_count": 48
        }
      ]
    },
    {
      "cell_type": "code",
      "metadata": {
        "id": "0gxdfJljcDg4",
        "colab_type": "code",
        "outputId": "ccd3a2cc-d1b4-47e3-bd82-774a912bed66",
        "colab": {
          "base_uri": "https://localhost:8080/",
          "height": 485
        }
      },
      "source": [
        "import numpy as np\n",
        "a=np.arange(15).reshape(3,5)\n",
        "print(a)\n",
        "print(a.shape)\n",
        "print(a.ndim)\n",
        "print(a.dtype)\n",
        "print(a.itemsize)\n",
        "print(a.size)\n",
        "print(type(a))"
      ],
      "execution_count": 49,
      "outputs": [
        {
          "output_type": "stream",
          "text": [
            "[[ 0  1  2  3  4]\n",
            " [ 5  6  7  8  9]\n",
            " [10 11 12 13 14]]\n",
            "(3, 5)\n",
            "2\n",
            "int64\n",
            "8\n",
            "15\n",
            "<class 'numpy.ndarray'>\n",
            "[[ 0  1  2  3  4]\n",
            " [ 5  6  7  8  9]\n",
            " [10 11 12 13 14]]\n",
            "(3, 5)\n",
            "2\n",
            "int64\n",
            "8\n",
            "15\n",
            "<class 'numpy.ndarray'>\n",
            "[[ 0  1  2  3  4]\n",
            " [ 5  6  7  8  9]\n",
            " [10 11 12 13 14]]\n",
            "(3, 5)\n",
            "2\n",
            "int64\n",
            "8\n",
            "15\n",
            "<class 'numpy.ndarray'>\n"
          ],
          "name": "stdout"
        }
      ]
    },
    {
      "cell_type": "code",
      "metadata": {
        "id": "1v_rfEvzeyIu",
        "colab_type": "code",
        "outputId": "343b845b-e5c2-4614-97c8-6bf4026b281d",
        "colab": {
          "base_uri": "https://localhost:8080/",
          "height": 139
        }
      },
      "source": [
        "import numpy as np\n",
        "a=np.zeros((3,4))\n",
        "a"
      ],
      "execution_count": 50,
      "outputs": [
        {
          "output_type": "execute_result",
          "data": {
            "text/plain": [
              "array([[0., 0., 0., 0.],\n",
              "       [0., 0., 0., 0.],\n",
              "       [0., 0., 0., 0.]])"
            ]
          },
          "metadata": {
            "tags": []
          },
          "execution_count": 8
        },
        {
          "output_type": "execute_result",
          "data": {
            "text/plain": [
              "array([[0., 0., 0., 0.],\n",
              "       [0., 0., 0., 0.],\n",
              "       [0., 0., 0., 0.]])"
            ]
          },
          "metadata": {
            "tags": []
          },
          "execution_count": 29
        },
        {
          "output_type": "execute_result",
          "data": {
            "text/plain": [
              "array([[0., 0., 0., 0.],\n",
              "       [0., 0., 0., 0.],\n",
              "       [0., 0., 0., 0.]])"
            ]
          },
          "metadata": {
            "tags": []
          },
          "execution_count": 50
        }
      ]
    },
    {
      "cell_type": "code",
      "metadata": {
        "id": "x5XKXjc_fCyZ",
        "colab_type": "code",
        "outputId": "b8e8b0b4-9662-4a38-80b6-ef656893acd1",
        "colab": {
          "base_uri": "https://localhost:8080/",
          "height": 139
        }
      },
      "source": [
        "import numpy as np\n",
        "a=np.empty((3,4))\n",
        "a"
      ],
      "execution_count": 51,
      "outputs": [
        {
          "output_type": "execute_result",
          "data": {
            "text/plain": [
              "array([[0., 0., 0., 0.],\n",
              "       [0., 0., 0., 0.],\n",
              "       [0., 0., 0., 0.]])"
            ]
          },
          "metadata": {
            "tags": []
          },
          "execution_count": 9
        },
        {
          "output_type": "execute_result",
          "data": {
            "text/plain": [
              "array([[0., 0., 0., 0.],\n",
              "       [0., 0., 0., 0.],\n",
              "       [0., 0., 0., 0.]])"
            ]
          },
          "metadata": {
            "tags": []
          },
          "execution_count": 30
        },
        {
          "output_type": "execute_result",
          "data": {
            "text/plain": [
              "array([[0., 0., 0., 0.],\n",
              "       [0., 0., 0., 0.],\n",
              "       [0., 0., 0., 0.]])"
            ]
          },
          "metadata": {
            "tags": []
          },
          "execution_count": 51
        }
      ]
    },
    {
      "cell_type": "code",
      "metadata": {
        "id": "uZwe8j8hfbRo",
        "colab_type": "code",
        "outputId": "d688fbbe-00fe-4388-8152-7d99b764782c",
        "colab": {
          "base_uri": "https://localhost:8080/",
          "height": 139
        }
      },
      "source": [
        "import numpy as np\n",
        "np.eye(3,3)"
      ],
      "execution_count": 52,
      "outputs": [
        {
          "output_type": "execute_result",
          "data": {
            "text/plain": [
              "array([[1., 0., 0.],\n",
              "       [0., 1., 0.],\n",
              "       [0., 0., 1.]])"
            ]
          },
          "metadata": {
            "tags": []
          },
          "execution_count": 10
        },
        {
          "output_type": "execute_result",
          "data": {
            "text/plain": [
              "array([[1., 0., 0.],\n",
              "       [0., 1., 0.],\n",
              "       [0., 0., 1.]])"
            ]
          },
          "metadata": {
            "tags": []
          },
          "execution_count": 31
        },
        {
          "output_type": "execute_result",
          "data": {
            "text/plain": [
              "array([[1., 0., 0.],\n",
              "       [0., 1., 0.],\n",
              "       [0., 0., 1.]])"
            ]
          },
          "metadata": {
            "tags": []
          },
          "execution_count": 52
        }
      ]
    },
    {
      "cell_type": "code",
      "metadata": {
        "id": "9JUFAW-TfogS",
        "colab_type": "code",
        "outputId": "90091a15-3852-4346-f517-d3fefdd06ede",
        "colab": {
          "base_uri": "https://localhost:8080/",
          "height": 139
        }
      },
      "source": [
        "import numpy as np\n",
        "np.full((3,3),6)"
      ],
      "execution_count": 53,
      "outputs": [
        {
          "output_type": "execute_result",
          "data": {
            "text/plain": [
              "array([[6, 6, 6],\n",
              "       [6, 6, 6],\n",
              "       [6, 6, 6]])"
            ]
          },
          "metadata": {
            "tags": []
          },
          "execution_count": 11
        },
        {
          "output_type": "execute_result",
          "data": {
            "text/plain": [
              "array([[6, 6, 6],\n",
              "       [6, 6, 6],\n",
              "       [6, 6, 6]])"
            ]
          },
          "metadata": {
            "tags": []
          },
          "execution_count": 32
        },
        {
          "output_type": "execute_result",
          "data": {
            "text/plain": [
              "array([[6, 6, 6],\n",
              "       [6, 6, 6],\n",
              "       [6, 6, 6]])"
            ]
          },
          "metadata": {
            "tags": []
          },
          "execution_count": 53
        }
      ]
    },
    {
      "cell_type": "code",
      "metadata": {
        "id": "TR5EJIJgf3pa",
        "colab_type": "code",
        "outputId": "2e416b6c-68f3-4393-80b6-9a795987ade4",
        "colab": {
          "base_uri": "https://localhost:8080/",
          "height": 139
        }
      },
      "source": [
        "import numpy as np\n",
        "np.random.random((3,3))"
      ],
      "execution_count": 54,
      "outputs": [
        {
          "output_type": "execute_result",
          "data": {
            "text/plain": [
              "array([[0.39553651, 0.04527981, 0.27120506],\n",
              "       [0.46318057, 0.20820929, 0.13184721],\n",
              "       [0.58368291, 0.84930634, 0.03453922]])"
            ]
          },
          "metadata": {
            "tags": []
          },
          "execution_count": 12
        },
        {
          "output_type": "execute_result",
          "data": {
            "text/plain": [
              "array([[0.12386844, 0.65333965, 0.95838622],\n",
              "       [0.85351982, 0.2497594 , 0.45033237],\n",
              "       [0.34952758, 0.17630624, 0.3441694 ]])"
            ]
          },
          "metadata": {
            "tags": []
          },
          "execution_count": 33
        },
        {
          "output_type": "execute_result",
          "data": {
            "text/plain": [
              "array([[0.0704378 , 0.06895715, 0.70738571],\n",
              "       [0.43725741, 0.85928904, 0.95484299],\n",
              "       [0.11998791, 0.82855347, 0.10066308]])"
            ]
          },
          "metadata": {
            "tags": []
          },
          "execution_count": 54
        }
      ]
    },
    {
      "cell_type": "code",
      "metadata": {
        "id": "1dqKsg1JgWjH",
        "colab_type": "code",
        "outputId": "a0386b0b-dc2c-418c-adc6-0354daf58e70",
        "colab": {
          "base_uri": "https://localhost:8080/",
          "height": 381
        }
      },
      "source": [
        "a=np.array([1,2,3,4])\n",
        "b=np.array([1,2,3,4])\n",
        "print(a)\n",
        "print(b)\n",
        "c=a-b\n",
        "print(a)\n",
        "print(b**2)\n",
        "print(10*np.sin(a))\n",
        "print(a<4)\n",
        "a[0]+=3\n",
        "print(a)"
      ],
      "execution_count": 55,
      "outputs": [
        {
          "output_type": "stream",
          "text": [
            "[1 2 3 4]\n",
            "[1 2 3 4]\n",
            "[1 2 3 4]\n",
            "[ 1  4  9 16]\n",
            "[ 8.41470985  9.09297427  1.41120008 -7.56802495]\n",
            "[ True  True  True False]\n",
            "[4 2 3 4]\n",
            "[1 2 3 4]\n",
            "[1 2 3 4]\n",
            "[1 2 3 4]\n",
            "[ 1  4  9 16]\n",
            "[ 8.41470985  9.09297427  1.41120008 -7.56802495]\n",
            "[ True  True  True False]\n",
            "[4 2 3 4]\n",
            "[1 2 3 4]\n",
            "[1 2 3 4]\n",
            "[1 2 3 4]\n",
            "[ 1  4  9 16]\n",
            "[ 8.41470985  9.09297427  1.41120008 -7.56802495]\n",
            "[ True  True  True False]\n",
            "[4 2 3 4]\n"
          ],
          "name": "stdout"
        }
      ]
    },
    {
      "cell_type": "code",
      "metadata": {
        "id": "typR92OaoE0X",
        "colab_type": "code",
        "outputId": "798ce7e0-f410-4376-9c26-480b9a41721e",
        "colab": {
          "base_uri": "https://localhost:8080/",
          "height": 641
        }
      },
      "source": [
        "a=np.array([[1,2],[2,3]])\n",
        "b=np.array([[5,6],[4,3]])\n",
        "print(a)\n",
        "print(b)\n",
        "print(a*b)\n",
        "print(a@b)\n",
        "print(a.dot(b))\n",
        "print(np.dot(a,b))"
      ],
      "execution_count": 56,
      "outputs": [
        {
          "output_type": "stream",
          "text": [
            "[[1 2]\n",
            " [2 3]]\n",
            "[[5 6]\n",
            " [4 3]]\n",
            "[[ 5 12]\n",
            " [ 8  9]]\n",
            "[[13 12]\n",
            " [22 21]]\n",
            "[[13 12]\n",
            " [22 21]]\n",
            "[[13 12]\n",
            " [22 21]]\n",
            "[[1 2]\n",
            " [2 3]]\n",
            "[[5 6]\n",
            " [4 3]]\n",
            "[[ 5 12]\n",
            " [ 8  9]]\n",
            "[[13 12]\n",
            " [22 21]]\n",
            "[[13 12]\n",
            " [22 21]]\n",
            "[[13 12]\n",
            " [22 21]]\n",
            "[[1 2]\n",
            " [2 3]]\n",
            "[[5 6]\n",
            " [4 3]]\n",
            "[[ 5 12]\n",
            " [ 8  9]]\n",
            "[[13 12]\n",
            " [22 21]]\n",
            "[[13 12]\n",
            " [22 21]]\n",
            "[[13 12]\n",
            " [22 21]]\n"
          ],
          "name": "stdout"
        }
      ]
    },
    {
      "cell_type": "code",
      "metadata": {
        "id": "-sQ8DVLqpkb6",
        "colab_type": "code",
        "outputId": "a21cbd06-66bd-4d2c-a917-68a1f444671f",
        "colab": {
          "base_uri": "https://localhost:8080/",
          "height": 485
        }
      },
      "source": [
        "b=np.arange(12).reshape(3,4)\n",
        "print(b)\n",
        "print(b.sum())\n",
        "print(b.sum(axis=0))\n",
        "print(b.min(axis=1))\n",
        "print(b.cumsum(axis=1))"
      ],
      "execution_count": 57,
      "outputs": [
        {
          "output_type": "stream",
          "text": [
            "[[ 0  1  2  3]\n",
            " [ 4  5  6  7]\n",
            " [ 8  9 10 11]]\n",
            "66\n",
            "[12 15 18 21]\n",
            "[0 4 8]\n",
            "[[ 0  1  3  6]\n",
            " [ 4  9 15 22]\n",
            " [ 8 17 27 38]]\n",
            "[[ 0  1  2  3]\n",
            " [ 4  5  6  7]\n",
            " [ 8  9 10 11]]\n",
            "66\n",
            "[12 15 18 21]\n",
            "[0 4 8]\n",
            "[[ 0  1  3  6]\n",
            " [ 4  9 15 22]\n",
            " [ 8 17 27 38]]\n",
            "[[ 0  1  2  3]\n",
            " [ 4  5  6  7]\n",
            " [ 8  9 10 11]]\n",
            "66\n",
            "[12 15 18 21]\n",
            "[0 4 8]\n",
            "[[ 0  1  3  6]\n",
            " [ 4  9 15 22]\n",
            " [ 8 17 27 38]]\n"
          ],
          "name": "stdout"
        }
      ]
    },
    {
      "cell_type": "code",
      "metadata": {
        "id": "OXn9U8b0nNvv",
        "colab_type": "code",
        "outputId": "2bf46a47-b918-403e-9a4d-ebbc597a7615",
        "colab": {
          "base_uri": "https://localhost:8080/",
          "height": 225
        }
      },
      "source": [
        "a=np.arange(10)**3\n",
        "print(a)\n",
        "print(a[2:4])\n",
        "print(a[2])\n",
        "print(a[-1])"
      ],
      "execution_count": 58,
      "outputs": [
        {
          "output_type": "stream",
          "text": [
            "[  0   1   8  27  64 125 216 343 512 729]\n",
            "[ 8 27]\n",
            "8\n",
            "729\n",
            "[  0   1   8  27  64 125 216 343 512 729]\n",
            "[ 8 27]\n",
            "8\n",
            "729\n",
            "[  0   1   8  27  64 125 216 343 512 729]\n",
            "[ 8 27]\n",
            "8\n",
            "729\n"
          ],
          "name": "stdout"
        }
      ]
    },
    {
      "cell_type": "code",
      "metadata": {
        "id": "c8xFPGx6sXbn",
        "colab_type": "code",
        "outputId": "2f4dd19e-036c-4a6e-9cf4-9e36df555a92",
        "colab": {
          "base_uri": "https://localhost:8080/",
          "height": 607
        }
      },
      "source": [
        "a=np.arange(12).reshape(3,4)\n",
        "print(a)\n",
        "print(a[1:3])\n",
        "print(a[1:3,1:2])\n",
        "print(a[-1,-3])\n",
        "a.T"
      ],
      "execution_count": 59,
      "outputs": [
        {
          "output_type": "stream",
          "text": [
            "[[ 0  1  2  3]\n",
            " [ 4  5  6  7]\n",
            " [ 8  9 10 11]]\n",
            "[[ 4  5  6  7]\n",
            " [ 8  9 10 11]]\n",
            "[[5]\n",
            " [9]]\n",
            "9\n"
          ],
          "name": "stdout"
        },
        {
          "output_type": "execute_result",
          "data": {
            "text/plain": [
              "array([[ 0,  4,  8],\n",
              "       [ 1,  5,  9],\n",
              "       [ 2,  6, 10],\n",
              "       [ 3,  7, 11]])"
            ]
          },
          "metadata": {
            "tags": []
          },
          "execution_count": 17
        },
        {
          "output_type": "stream",
          "text": [
            "[[ 0  1  2  3]\n",
            " [ 4  5  6  7]\n",
            " [ 8  9 10 11]]\n",
            "[[ 4  5  6  7]\n",
            " [ 8  9 10 11]]\n",
            "[[5]\n",
            " [9]]\n",
            "9\n"
          ],
          "name": "stdout"
        },
        {
          "output_type": "execute_result",
          "data": {
            "text/plain": [
              "array([[ 0,  4,  8],\n",
              "       [ 1,  5,  9],\n",
              "       [ 2,  6, 10],\n",
              "       [ 3,  7, 11]])"
            ]
          },
          "metadata": {
            "tags": []
          },
          "execution_count": 38
        },
        {
          "output_type": "stream",
          "text": [
            "[[ 0  1  2  3]\n",
            " [ 4  5  6  7]\n",
            " [ 8  9 10 11]]\n",
            "[[ 4  5  6  7]\n",
            " [ 8  9 10 11]]\n",
            "[[5]\n",
            " [9]]\n",
            "9\n"
          ],
          "name": "stdout"
        },
        {
          "output_type": "execute_result",
          "data": {
            "text/plain": [
              "array([[ 0,  4,  8],\n",
              "       [ 1,  5,  9],\n",
              "       [ 2,  6, 10],\n",
              "       [ 3,  7, 11]])"
            ]
          },
          "metadata": {
            "tags": []
          },
          "execution_count": 59
        }
      ]
    },
    {
      "cell_type": "code",
      "metadata": {
        "id": "aCnMWOgCstJg",
        "colab_type": "code",
        "outputId": "54f75c2a-95fc-4a6b-dc50-a79f48f215a4",
        "colab": {
          "base_uri": "https://localhost:8080/",
          "height": 139
        }
      },
      "source": [
        "a=np.array([[11,22,33],[44,55,66],[77,88,99]])\n",
        "a\n",
        "b=np.array([1,2,3])\n",
        "b\n",
        "c=a+b\n",
        "c"
      ],
      "execution_count": 60,
      "outputs": [
        {
          "output_type": "execute_result",
          "data": {
            "text/plain": [
              "array([[ 12,  24,  36],\n",
              "       [ 45,  57,  69],\n",
              "       [ 78,  90, 102]])"
            ]
          },
          "metadata": {
            "tags": []
          },
          "execution_count": 18
        },
        {
          "output_type": "execute_result",
          "data": {
            "text/plain": [
              "array([[ 12,  24,  36],\n",
              "       [ 45,  57,  69],\n",
              "       [ 78,  90, 102]])"
            ]
          },
          "metadata": {
            "tags": []
          },
          "execution_count": 39
        },
        {
          "output_type": "execute_result",
          "data": {
            "text/plain": [
              "array([[ 12,  24,  36],\n",
              "       [ 45,  57,  69],\n",
              "       [ 78,  90, 102]])"
            ]
          },
          "metadata": {
            "tags": []
          },
          "execution_count": 60
        }
      ]
    },
    {
      "cell_type": "code",
      "metadata": {
        "id": "Ogm7QDP9s3fu",
        "colab_type": "code",
        "outputId": "64a0418e-4cca-4426-f78f-2b0e4b9578a0",
        "colab": {
          "base_uri": "https://localhost:8080/",
          "height": 139
        }
      },
      "source": [
        "a=np.array([[1,2,3,4,5,6],[22,3,3,4,4,44]])\n",
        "print(a)\n",
        "np.hsplit(a,3)\n",
        "np.vsplit(a,2)"
      ],
      "execution_count": 61,
      "outputs": [
        {
          "output_type": "stream",
          "text": [
            "[[ 1  2  3  4  5  6]\n",
            " [22  3  3  4  4 44]]\n"
          ],
          "name": "stdout"
        },
        {
          "output_type": "execute_result",
          "data": {
            "text/plain": [
              "[array([[1, 2, 3, 4, 5, 6]]), array([[22,  3,  3,  4,  4, 44]])]"
            ]
          },
          "metadata": {
            "tags": []
          },
          "execution_count": 19
        },
        {
          "output_type": "stream",
          "text": [
            "[[ 1  2  3  4  5  6]\n",
            " [22  3  3  4  4 44]]\n"
          ],
          "name": "stdout"
        },
        {
          "output_type": "execute_result",
          "data": {
            "text/plain": [
              "[array([[1, 2, 3, 4, 5, 6]]), array([[22,  3,  3,  4,  4, 44]])]"
            ]
          },
          "metadata": {
            "tags": []
          },
          "execution_count": 40
        },
        {
          "output_type": "stream",
          "text": [
            "[[ 1  2  3  4  5  6]\n",
            " [22  3  3  4  4 44]]\n"
          ],
          "name": "stdout"
        },
        {
          "output_type": "execute_result",
          "data": {
            "text/plain": [
              "[array([[1, 2, 3, 4, 5, 6]]), array([[22,  3,  3,  4,  4, 44]])]"
            ]
          },
          "metadata": {
            "tags": []
          },
          "execution_count": 61
        }
      ]
    },
    {
      "cell_type": "code",
      "metadata": {
        "id": "73A-d-lkt99T",
        "colab_type": "code",
        "outputId": "a250aa5d-4dc4-4157-9040-1f92f47f9c2c",
        "colab": {
          "base_uri": "https://localhost:8080/",
          "height": 139
        }
      },
      "source": [
        "a=np.arange(15).reshape(3,5)**2\n",
        "a"
      ],
      "execution_count": 62,
      "outputs": [
        {
          "output_type": "execute_result",
          "data": {
            "text/plain": [
              "array([[  0,   1,   4,   9,  16],\n",
              "       [ 25,  36,  49,  64,  81],\n",
              "       [100, 121, 144, 169, 196]])"
            ]
          },
          "metadata": {
            "tags": []
          },
          "execution_count": 20
        },
        {
          "output_type": "execute_result",
          "data": {
            "text/plain": [
              "array([[  0,   1,   4,   9,  16],\n",
              "       [ 25,  36,  49,  64,  81],\n",
              "       [100, 121, 144, 169, 196]])"
            ]
          },
          "metadata": {
            "tags": []
          },
          "execution_count": 41
        },
        {
          "output_type": "execute_result",
          "data": {
            "text/plain": [
              "array([[  0,   1,   4,   9,  16],\n",
              "       [ 25,  36,  49,  64,  81],\n",
              "       [100, 121, 144, 169, 196]])"
            ]
          },
          "metadata": {
            "tags": []
          },
          "execution_count": 62
        }
      ]
    },
    {
      "cell_type": "code",
      "metadata": {
        "id": "oo0KuDtCu2U7",
        "colab_type": "code",
        "outputId": "a1bb6fb7-fa92-499b-dfb3-15790c4ec61f",
        "colab": {
          "base_uri": "https://localhost:8080/",
          "height": 381
        }
      },
      "source": [
        "print(a.T)\n",
        "print(a.shape)\n",
        "print(a.ndim)"
      ],
      "execution_count": 63,
      "outputs": [
        {
          "output_type": "stream",
          "text": [
            "[[  0  25 100]\n",
            " [  1  36 121]\n",
            " [  4  49 144]\n",
            " [  9  64 169]\n",
            " [ 16  81 196]]\n",
            "(3, 5)\n",
            "2\n",
            "[[  0  25 100]\n",
            " [  1  36 121]\n",
            " [  4  49 144]\n",
            " [  9  64 169]\n",
            " [ 16  81 196]]\n",
            "(3, 5)\n",
            "2\n",
            "[[  0  25 100]\n",
            " [  1  36 121]\n",
            " [  4  49 144]\n",
            " [  9  64 169]\n",
            " [ 16  81 196]]\n",
            "(3, 5)\n",
            "2\n"
          ],
          "name": "stdout"
        }
      ]
    },
    {
      "cell_type": "code",
      "metadata": {
        "id": "-3ooFPJ0vV0Y",
        "colab_type": "code",
        "outputId": "f617abc0-b08d-4728-a9a3-bcd0296c2cd6",
        "colab": {
          "base_uri": "https://localhost:8080/",
          "height": 243
        }
      },
      "source": [
        "a=np.arange(25).reshape(5,5)\n",
        "a"
      ],
      "execution_count": 64,
      "outputs": [
        {
          "output_type": "execute_result",
          "data": {
            "text/plain": [
              "array([[ 0,  1,  2,  3,  4],\n",
              "       [ 5,  6,  7,  8,  9],\n",
              "       [10, 11, 12, 13, 14],\n",
              "       [15, 16, 17, 18, 19],\n",
              "       [20, 21, 22, 23, 24]])"
            ]
          },
          "metadata": {
            "tags": []
          },
          "execution_count": 22
        },
        {
          "output_type": "execute_result",
          "data": {
            "text/plain": [
              "array([[ 0,  1,  2,  3,  4],\n",
              "       [ 5,  6,  7,  8,  9],\n",
              "       [10, 11, 12, 13, 14],\n",
              "       [15, 16, 17, 18, 19],\n",
              "       [20, 21, 22, 23, 24]])"
            ]
          },
          "metadata": {
            "tags": []
          },
          "execution_count": 43
        },
        {
          "output_type": "execute_result",
          "data": {
            "text/plain": [
              "array([[ 0,  1,  2,  3,  4],\n",
              "       [ 5,  6,  7,  8,  9],\n",
              "       [10, 11, 12, 13, 14],\n",
              "       [15, 16, 17, 18, 19],\n",
              "       [20, 21, 22, 23, 24]])"
            ]
          },
          "metadata": {
            "tags": []
          },
          "execution_count": 64
        }
      ]
    },
    {
      "cell_type": "code",
      "metadata": {
        "id": "u4MVPRF1wZJJ",
        "colab_type": "code",
        "outputId": "7b04f4b1-ceaa-404b-a79d-e190d91ac556",
        "colab": {
          "base_uri": "https://localhost:8080/",
          "height": 243
        }
      },
      "source": [
        "a=np.ones((5,5))\n",
        "a"
      ],
      "execution_count": 65,
      "outputs": [
        {
          "output_type": "execute_result",
          "data": {
            "text/plain": [
              "array([[1., 1., 1., 1., 1.],\n",
              "       [1., 1., 1., 1., 1.],\n",
              "       [1., 1., 1., 1., 1.],\n",
              "       [1., 1., 1., 1., 1.],\n",
              "       [1., 1., 1., 1., 1.]])"
            ]
          },
          "metadata": {
            "tags": []
          },
          "execution_count": 23
        },
        {
          "output_type": "execute_result",
          "data": {
            "text/plain": [
              "array([[1., 1., 1., 1., 1.],\n",
              "       [1., 1., 1., 1., 1.],\n",
              "       [1., 1., 1., 1., 1.],\n",
              "       [1., 1., 1., 1., 1.],\n",
              "       [1., 1., 1., 1., 1.]])"
            ]
          },
          "metadata": {
            "tags": []
          },
          "execution_count": 44
        },
        {
          "output_type": "execute_result",
          "data": {
            "text/plain": [
              "array([[1., 1., 1., 1., 1.],\n",
              "       [1., 1., 1., 1., 1.],\n",
              "       [1., 1., 1., 1., 1.],\n",
              "       [1., 1., 1., 1., 1.],\n",
              "       [1., 1., 1., 1., 1.]])"
            ]
          },
          "metadata": {
            "tags": []
          },
          "execution_count": 65
        }
      ]
    },
    {
      "cell_type": "code",
      "metadata": {
        "id": "lOytD_W2xBXN",
        "colab_type": "code",
        "outputId": "49b6044a-f40a-4a33-9a06-54435694d420",
        "colab": {
          "base_uri": "https://localhost:8080/",
          "height": 243
        }
      },
      "source": [
        "import numpy as np\n",
        "b=np.zeros((5,6))\n",
        "b"
      ],
      "execution_count": 66,
      "outputs": [
        {
          "output_type": "execute_result",
          "data": {
            "text/plain": [
              "array([[0., 0., 0., 0., 0., 0.],\n",
              "       [0., 0., 0., 0., 0., 0.],\n",
              "       [0., 0., 0., 0., 0., 0.],\n",
              "       [0., 0., 0., 0., 0., 0.],\n",
              "       [0., 0., 0., 0., 0., 0.]])"
            ]
          },
          "metadata": {
            "tags": []
          },
          "execution_count": 24
        },
        {
          "output_type": "execute_result",
          "data": {
            "text/plain": [
              "array([[0., 0., 0., 0., 0., 0.],\n",
              "       [0., 0., 0., 0., 0., 0.],\n",
              "       [0., 0., 0., 0., 0., 0.],\n",
              "       [0., 0., 0., 0., 0., 0.],\n",
              "       [0., 0., 0., 0., 0., 0.]])"
            ]
          },
          "metadata": {
            "tags": []
          },
          "execution_count": 45
        },
        {
          "output_type": "execute_result",
          "data": {
            "text/plain": [
              "array([[0., 0., 0., 0., 0., 0.],\n",
              "       [0., 0., 0., 0., 0., 0.],\n",
              "       [0., 0., 0., 0., 0., 0.],\n",
              "       [0., 0., 0., 0., 0., 0.],\n",
              "       [0., 0., 0., 0., 0., 0.]])"
            ]
          },
          "metadata": {
            "tags": []
          },
          "execution_count": 66
        }
      ]
    }
  ]
}